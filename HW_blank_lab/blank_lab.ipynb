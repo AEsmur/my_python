{
 "cells": [
  {
   "cell_type": "markdown",
   "metadata": {},
   "source": [
    "**Задание 1**\n",
    "\n",
    "1) Используя средства модуля [pandas](https://github.com/dm-fedorov/python3_intro/blob/master/lesson_13/pandas.ipynb), определите среднюю, максималную, минимальную зарплату и среднюю, максималную, минимальную пенсию в Санкт-Петербурге в 2018 году.\n",
    "\n",
    "2) Продемонстрируйте умение построения графиков (для произвольных значений) с помощью plot.\n",
    "\n",
    "\n",
    "**Задание 2**\n",
    "\n",
    "Для [файла](http://dfedorov.spb.ru/python3/forecast.html), расположенного в сети Интернет, напишите сценарий с использованием [модуля bs4](https://github.com/dm-fedorov/python3_intro/blob/master/lesson_13/bs4.ipynb), который извлекает данные и сохраняет их в файле формата CSV, где первый столбец - день недели, второй столбец - погода. \n",
    "\n",
    "**Переходим к решению первой задачи:**"
   ]
  },
  {
   "cell_type": "markdown",
   "metadata": {},
   "source": [
    "Импортируем модуль pandas:"
   ]
  },
  {
   "cell_type": "code",
   "execution_count": 7,
   "metadata": {},
   "outputs": [],
   "source": [
    "import pandas as pd\n",
    "import matplotlib.pyplot as plt\n",
    "%matplotlib inline"
   ]
  },
  {
   "cell_type": "markdown",
   "metadata": {},
   "source": [
    "Читаем содержимое csv файла:"
   ]
  },
  {
   "cell_type": "code",
   "execution_count": 8,
   "metadata": {},
   "outputs": [
    {
     "data": {
      "text/html": [
       "<div>\n",
       "<style scoped>\n",
       "    .dataframe tbody tr th:only-of-type {\n",
       "        vertical-align: middle;\n",
       "    }\n",
       "\n",
       "    .dataframe tbody tr th {\n",
       "        vertical-align: top;\n",
       "    }\n",
       "\n",
       "    .dataframe thead th {\n",
       "        text-align: right;\n",
       "    }\n",
       "</style>\n",
       "<table border=\"1\" class=\"dataframe\">\n",
       "  <thead>\n",
       "    <tr style=\"text-align: right;\">\n",
       "      <th></th>\n",
       "      <th>name</th>\n",
       "      <th>region</th>\n",
       "      <th>date</th>\n",
       "      <th>value</th>\n",
       "    </tr>\n",
       "  </thead>\n",
       "  <tbody>\n",
       "    <tr>\n",
       "      <th>0</th>\n",
       "      <td>Количество заявок на потребительские кредиты</td>\n",
       "      <td>Россия</td>\n",
       "      <td>2013-01-15</td>\n",
       "      <td>571147</td>\n",
       "    </tr>\n",
       "    <tr>\n",
       "      <th>1</th>\n",
       "      <td>Количество заявок на потребительские кредиты</td>\n",
       "      <td>Россия</td>\n",
       "      <td>2013-02-15</td>\n",
       "      <td>504508</td>\n",
       "    </tr>\n",
       "    <tr>\n",
       "      <th>2</th>\n",
       "      <td>Количество заявок на потребительские кредиты</td>\n",
       "      <td>Россия</td>\n",
       "      <td>2013-03-15</td>\n",
       "      <td>628803</td>\n",
       "    </tr>\n",
       "    <tr>\n",
       "      <th>3</th>\n",
       "      <td>Количество заявок на потребительские кредиты</td>\n",
       "      <td>Россия</td>\n",
       "      <td>2013-04-15</td>\n",
       "      <td>836054</td>\n",
       "    </tr>\n",
       "    <tr>\n",
       "      <th>4</th>\n",
       "      <td>Количество заявок на потребительские кредиты</td>\n",
       "      <td>Россия</td>\n",
       "      <td>2013-05-15</td>\n",
       "      <td>867235</td>\n",
       "    </tr>\n",
       "  </tbody>\n",
       "</table>\n",
       "</div>"
      ],
      "text/plain": [
       "                                           name  region        date   value\n",
       "0  Количество заявок на потребительские кредиты  Россия  2013-01-15  571147\n",
       "1  Количество заявок на потребительские кредиты  Россия  2013-02-15  504508\n",
       "2  Количество заявок на потребительские кредиты  Россия  2013-03-15  628803\n",
       "3  Количество заявок на потребительские кредиты  Россия  2013-04-15  836054\n",
       "4  Количество заявок на потребительские кредиты  Россия  2013-05-15  867235"
      ]
     },
     "execution_count": 8,
     "metadata": {},
     "output_type": "execute_result"
    }
   ],
   "source": [
    "data = pd.read_csv('opendata.csv', encoding='cp1251')\n",
    "data.head()"
   ]
  },
  {
   "cell_type": "markdown",
   "metadata": {},
   "source": [
    "Далее пошаговый код..."
   ]
  },
  {
   "cell_type": "markdown",
   "metadata": {},
   "source": [
    "1.1. Используя средства модуля pandas, определите среднюю, максималную, минимальную зарплату и среднюю, максималную, минимальную пенсию в Санкт-Петербурге в 2018 году."
   ]
  },
  {
   "cell_type": "markdown",
   "metadata": {},
   "source": [
    "1) Мой (гениальный) способ, вершина мысли - через цикл:"
   ]
  },
  {
   "cell_type": "code",
   "execution_count": 9,
   "metadata": {},
   "outputs": [],
   "source": [
    "frame = pd.DataFrame([i[0] for i in data['date'].str.split('-')])"
   ]
  },
  {
   "cell_type": "code",
   "execution_count": 10,
   "metadata": {},
   "outputs": [
    {
     "name": "stderr",
     "output_type": "stream",
     "text": [
      "D:\\alyoshenka\\Python\\Anaconda\\lib\\site-packages\\ipykernel_launcher.py:1: UserWarning: Boolean Series key will be reindexed to match DataFrame index.\n",
      "  \"\"\"Entry point for launching an IPython kernel.\n"
     ]
    },
    {
     "data": {
      "text/html": [
       "<div>\n",
       "<style scoped>\n",
       "    .dataframe tbody tr th:only-of-type {\n",
       "        vertical-align: middle;\n",
       "    }\n",
       "\n",
       "    .dataframe tbody tr th {\n",
       "        vertical-align: top;\n",
       "    }\n",
       "\n",
       "    .dataframe thead th {\n",
       "        text-align: right;\n",
       "    }\n",
       "</style>\n",
       "<table border=\"1\" class=\"dataframe\">\n",
       "  <thead>\n",
       "    <tr style=\"text-align: right;\">\n",
       "      <th></th>\n",
       "      <th>name</th>\n",
       "      <th>region</th>\n",
       "      <th>date</th>\n",
       "      <th>value</th>\n",
       "    </tr>\n",
       "  </thead>\n",
       "  <tbody>\n",
       "    <tr>\n",
       "      <th>36763</th>\n",
       "      <td>Средняя зарплата</td>\n",
       "      <td>Санкт-Петербург</td>\n",
       "      <td>2018-01-15</td>\n",
       "      <td>31599</td>\n",
       "    </tr>\n",
       "    <tr>\n",
       "      <th>36764</th>\n",
       "      <td>Средняя зарплата</td>\n",
       "      <td>Санкт-Петербург</td>\n",
       "      <td>2018-02-15</td>\n",
       "      <td>42401</td>\n",
       "    </tr>\n",
       "    <tr>\n",
       "      <th>36765</th>\n",
       "      <td>Средняя зарплата</td>\n",
       "      <td>Санкт-Петербург</td>\n",
       "      <td>2018-03-15</td>\n",
       "      <td>41373</td>\n",
       "    </tr>\n",
       "    <tr>\n",
       "      <th>36766</th>\n",
       "      <td>Средняя зарплата</td>\n",
       "      <td>Санкт-Петербург</td>\n",
       "      <td>2018-04-15</td>\n",
       "      <td>44363</td>\n",
       "    </tr>\n",
       "    <tr>\n",
       "      <th>36767</th>\n",
       "      <td>Средняя зарплата</td>\n",
       "      <td>Санкт-Петербург</td>\n",
       "      <td>2018-05-15</td>\n",
       "      <td>46424</td>\n",
       "    </tr>\n",
       "    <tr>\n",
       "      <th>36768</th>\n",
       "      <td>Средняя зарплата</td>\n",
       "      <td>Санкт-Петербург</td>\n",
       "      <td>2018-06-15</td>\n",
       "      <td>49700</td>\n",
       "    </tr>\n",
       "    <tr>\n",
       "      <th>36769</th>\n",
       "      <td>Средняя зарплата</td>\n",
       "      <td>Санкт-Петербург</td>\n",
       "      <td>2018-07-15</td>\n",
       "      <td>45798</td>\n",
       "    </tr>\n",
       "    <tr>\n",
       "      <th>36770</th>\n",
       "      <td>Средняя зарплата</td>\n",
       "      <td>Санкт-Петербург</td>\n",
       "      <td>2018-08-15</td>\n",
       "      <td>43612</td>\n",
       "    </tr>\n",
       "    <tr>\n",
       "      <th>36771</th>\n",
       "      <td>Средняя зарплата</td>\n",
       "      <td>Санкт-Петербург</td>\n",
       "      <td>2018-09-15</td>\n",
       "      <td>41412</td>\n",
       "    </tr>\n",
       "    <tr>\n",
       "      <th>36772</th>\n",
       "      <td>Средняя зарплата</td>\n",
       "      <td>Санкт-Петербург</td>\n",
       "      <td>2018-10-15</td>\n",
       "      <td>43450</td>\n",
       "    </tr>\n",
       "    <tr>\n",
       "      <th>36773</th>\n",
       "      <td>Средняя зарплата</td>\n",
       "      <td>Санкт-Петербург</td>\n",
       "      <td>2018-11-15</td>\n",
       "      <td>44809</td>\n",
       "    </tr>\n",
       "  </tbody>\n",
       "</table>\n",
       "</div>"
      ],
      "text/plain": [
       "                   name           region        date  value\n",
       "36763  Средняя зарплата  Санкт-Петербург  2018-01-15  31599\n",
       "36764  Средняя зарплата  Санкт-Петербург  2018-02-15  42401\n",
       "36765  Средняя зарплата  Санкт-Петербург  2018-03-15  41373\n",
       "36766  Средняя зарплата  Санкт-Петербург  2018-04-15  44363\n",
       "36767  Средняя зарплата  Санкт-Петербург  2018-05-15  46424\n",
       "36768  Средняя зарплата  Санкт-Петербург  2018-06-15  49700\n",
       "36769  Средняя зарплата  Санкт-Петербург  2018-07-15  45798\n",
       "36770  Средняя зарплата  Санкт-Петербург  2018-08-15  43612\n",
       "36771  Средняя зарплата  Санкт-Петербург  2018-09-15  41412\n",
       "36772  Средняя зарплата  Санкт-Петербург  2018-10-15  43450\n",
       "36773  Средняя зарплата  Санкт-Петербург  2018-11-15  44809"
      ]
     },
     "execution_count": 10,
     "metadata": {},
     "output_type": "execute_result"
    }
   ],
   "source": [
    "data[data['region'] == 'Санкт-Петербург'][data['name'] == 'Средняя зарплата'][frame[0] == '2018']"
   ]
  },
  {
   "cell_type": "markdown",
   "metadata": {},
   "source": [
    "2) Самый адекватный способ - через str.contains:"
   ]
  },
  {
   "cell_type": "code",
   "execution_count": 11,
   "metadata": {},
   "outputs": [
    {
     "name": "stderr",
     "output_type": "stream",
     "text": [
      "D:\\alyoshenka\\Python\\Anaconda\\lib\\site-packages\\ipykernel_launcher.py:1: UserWarning: Boolean Series key will be reindexed to match DataFrame index.\n",
      "  \"\"\"Entry point for launching an IPython kernel.\n"
     ]
    },
    {
     "data": {
      "text/html": [
       "<div>\n",
       "<style scoped>\n",
       "    .dataframe tbody tr th:only-of-type {\n",
       "        vertical-align: middle;\n",
       "    }\n",
       "\n",
       "    .dataframe tbody tr th {\n",
       "        vertical-align: top;\n",
       "    }\n",
       "\n",
       "    .dataframe thead th {\n",
       "        text-align: right;\n",
       "    }\n",
       "</style>\n",
       "<table border=\"1\" class=\"dataframe\">\n",
       "  <thead>\n",
       "    <tr style=\"text-align: right;\">\n",
       "      <th></th>\n",
       "      <th>name</th>\n",
       "      <th>region</th>\n",
       "      <th>date</th>\n",
       "      <th>value</th>\n",
       "    </tr>\n",
       "  </thead>\n",
       "  <tbody>\n",
       "    <tr>\n",
       "      <th>36763</th>\n",
       "      <td>Средняя зарплата</td>\n",
       "      <td>Санкт-Петербург</td>\n",
       "      <td>2018-01-15</td>\n",
       "      <td>31599</td>\n",
       "    </tr>\n",
       "    <tr>\n",
       "      <th>36764</th>\n",
       "      <td>Средняя зарплата</td>\n",
       "      <td>Санкт-Петербург</td>\n",
       "      <td>2018-02-15</td>\n",
       "      <td>42401</td>\n",
       "    </tr>\n",
       "    <tr>\n",
       "      <th>36765</th>\n",
       "      <td>Средняя зарплата</td>\n",
       "      <td>Санкт-Петербург</td>\n",
       "      <td>2018-03-15</td>\n",
       "      <td>41373</td>\n",
       "    </tr>\n",
       "    <tr>\n",
       "      <th>36766</th>\n",
       "      <td>Средняя зарплата</td>\n",
       "      <td>Санкт-Петербург</td>\n",
       "      <td>2018-04-15</td>\n",
       "      <td>44363</td>\n",
       "    </tr>\n",
       "    <tr>\n",
       "      <th>36767</th>\n",
       "      <td>Средняя зарплата</td>\n",
       "      <td>Санкт-Петербург</td>\n",
       "      <td>2018-05-15</td>\n",
       "      <td>46424</td>\n",
       "    </tr>\n",
       "    <tr>\n",
       "      <th>36768</th>\n",
       "      <td>Средняя зарплата</td>\n",
       "      <td>Санкт-Петербург</td>\n",
       "      <td>2018-06-15</td>\n",
       "      <td>49700</td>\n",
       "    </tr>\n",
       "    <tr>\n",
       "      <th>36769</th>\n",
       "      <td>Средняя зарплата</td>\n",
       "      <td>Санкт-Петербург</td>\n",
       "      <td>2018-07-15</td>\n",
       "      <td>45798</td>\n",
       "    </tr>\n",
       "    <tr>\n",
       "      <th>36770</th>\n",
       "      <td>Средняя зарплата</td>\n",
       "      <td>Санкт-Петербург</td>\n",
       "      <td>2018-08-15</td>\n",
       "      <td>43612</td>\n",
       "    </tr>\n",
       "    <tr>\n",
       "      <th>36771</th>\n",
       "      <td>Средняя зарплата</td>\n",
       "      <td>Санкт-Петербург</td>\n",
       "      <td>2018-09-15</td>\n",
       "      <td>41412</td>\n",
       "    </tr>\n",
       "    <tr>\n",
       "      <th>36772</th>\n",
       "      <td>Средняя зарплата</td>\n",
       "      <td>Санкт-Петербург</td>\n",
       "      <td>2018-10-15</td>\n",
       "      <td>43450</td>\n",
       "    </tr>\n",
       "    <tr>\n",
       "      <th>36773</th>\n",
       "      <td>Средняя зарплата</td>\n",
       "      <td>Санкт-Петербург</td>\n",
       "      <td>2018-11-15</td>\n",
       "      <td>44809</td>\n",
       "    </tr>\n",
       "  </tbody>\n",
       "</table>\n",
       "</div>"
      ],
      "text/plain": [
       "                   name           region        date  value\n",
       "36763  Средняя зарплата  Санкт-Петербург  2018-01-15  31599\n",
       "36764  Средняя зарплата  Санкт-Петербург  2018-02-15  42401\n",
       "36765  Средняя зарплата  Санкт-Петербург  2018-03-15  41373\n",
       "36766  Средняя зарплата  Санкт-Петербург  2018-04-15  44363\n",
       "36767  Средняя зарплата  Санкт-Петербург  2018-05-15  46424\n",
       "36768  Средняя зарплата  Санкт-Петербург  2018-06-15  49700\n",
       "36769  Средняя зарплата  Санкт-Петербург  2018-07-15  45798\n",
       "36770  Средняя зарплата  Санкт-Петербург  2018-08-15  43612\n",
       "36771  Средняя зарплата  Санкт-Петербург  2018-09-15  41412\n",
       "36772  Средняя зарплата  Санкт-Петербург  2018-10-15  43450\n",
       "36773  Средняя зарплата  Санкт-Петербург  2018-11-15  44809"
      ]
     },
     "execution_count": 11,
     "metadata": {},
     "output_type": "execute_result"
    }
   ],
   "source": [
    "spb_2018_salary = data[data['region'] == 'Санкт-Петербург'][data['name'] == 'Средняя зарплата'][data['date'].str.contains('2018')]\n",
    "spb_2018_salary"
   ]
  },
  {
   "cell_type": "code",
   "execution_count": 12,
   "metadata": {},
   "outputs": [
    {
     "data": {
      "text/plain": [
       "value    43176.454545\n",
       "dtype: float64"
      ]
     },
     "execution_count": 12,
     "metadata": {},
     "output_type": "execute_result"
    }
   ],
   "source": [
    "spb_2018_salary.mean()"
   ]
  },
  {
   "cell_type": "code",
   "execution_count": 13,
   "metadata": {},
   "outputs": [
    {
     "data": {
      "text/plain": [
       "name      Средняя зарплата\n",
       "region     Санкт-Петербург\n",
       "date            2018-01-15\n",
       "value                31599\n",
       "dtype: object"
      ]
     },
     "execution_count": 13,
     "metadata": {},
     "output_type": "execute_result"
    }
   ],
   "source": [
    "spb_2018_salary.min()"
   ]
  },
  {
   "cell_type": "code",
   "execution_count": 14,
   "metadata": {},
   "outputs": [
    {
     "data": {
      "text/plain": [
       "name      Средняя зарплата\n",
       "region     Санкт-Петербург\n",
       "date            2018-11-15\n",
       "value                49700\n",
       "dtype: object"
      ]
     },
     "execution_count": 14,
     "metadata": {},
     "output_type": "execute_result"
    }
   ],
   "source": [
    "spb_2018_salary.max()"
   ]
  },
  {
   "cell_type": "code",
   "execution_count": 15,
   "metadata": {},
   "outputs": [
    {
     "name": "stderr",
     "output_type": "stream",
     "text": [
      "D:\\alyoshenka\\Python\\Anaconda\\lib\\site-packages\\ipykernel_launcher.py:1: UserWarning: Boolean Series key will be reindexed to match DataFrame index.\n",
      "  \"\"\"Entry point for launching an IPython kernel.\n"
     ]
    },
    {
     "data": {
      "text/html": [
       "<div>\n",
       "<style scoped>\n",
       "    .dataframe tbody tr th:only-of-type {\n",
       "        vertical-align: middle;\n",
       "    }\n",
       "\n",
       "    .dataframe tbody tr th {\n",
       "        vertical-align: top;\n",
       "    }\n",
       "\n",
       "    .dataframe thead th {\n",
       "        text-align: right;\n",
       "    }\n",
       "</style>\n",
       "<table border=\"1\" class=\"dataframe\">\n",
       "  <thead>\n",
       "    <tr style=\"text-align: right;\">\n",
       "      <th></th>\n",
       "      <th>name</th>\n",
       "      <th>region</th>\n",
       "      <th>date</th>\n",
       "      <th>value</th>\n",
       "    </tr>\n",
       "  </thead>\n",
       "  <tbody>\n",
       "    <tr>\n",
       "      <th>41479</th>\n",
       "      <td>Средняя пенсия</td>\n",
       "      <td>Санкт-Петербург</td>\n",
       "      <td>2018-01-15</td>\n",
       "      <td>14694</td>\n",
       "    </tr>\n",
       "    <tr>\n",
       "      <th>41480</th>\n",
       "      <td>Средняя пенсия</td>\n",
       "      <td>Санкт-Петербург</td>\n",
       "      <td>2018-02-15</td>\n",
       "      <td>17019</td>\n",
       "    </tr>\n",
       "    <tr>\n",
       "      <th>41481</th>\n",
       "      <td>Средняя пенсия</td>\n",
       "      <td>Санкт-Петербург</td>\n",
       "      <td>2018-03-15</td>\n",
       "      <td>17058</td>\n",
       "    </tr>\n",
       "    <tr>\n",
       "      <th>41482</th>\n",
       "      <td>Средняя пенсия</td>\n",
       "      <td>Санкт-Петербург</td>\n",
       "      <td>2018-04-15</td>\n",
       "      <td>19922</td>\n",
       "    </tr>\n",
       "    <tr>\n",
       "      <th>41483</th>\n",
       "      <td>Средняя пенсия</td>\n",
       "      <td>Санкт-Петербург</td>\n",
       "      <td>2018-05-15</td>\n",
       "      <td>15276</td>\n",
       "    </tr>\n",
       "    <tr>\n",
       "      <th>41484</th>\n",
       "      <td>Средняя пенсия</td>\n",
       "      <td>Санкт-Петербург</td>\n",
       "      <td>2018-06-15</td>\n",
       "      <td>18958</td>\n",
       "    </tr>\n",
       "    <tr>\n",
       "      <th>41485</th>\n",
       "      <td>Средняя пенсия</td>\n",
       "      <td>Санкт-Петербург</td>\n",
       "      <td>2018-07-15</td>\n",
       "      <td>15045</td>\n",
       "    </tr>\n",
       "    <tr>\n",
       "      <th>41486</th>\n",
       "      <td>Средняя пенсия</td>\n",
       "      <td>Санкт-Петербург</td>\n",
       "      <td>2018-08-15</td>\n",
       "      <td>19636</td>\n",
       "    </tr>\n",
       "    <tr>\n",
       "      <th>41487</th>\n",
       "      <td>Средняя пенсия</td>\n",
       "      <td>Санкт-Петербург</td>\n",
       "      <td>2018-09-15</td>\n",
       "      <td>15106</td>\n",
       "    </tr>\n",
       "    <tr>\n",
       "      <th>41488</th>\n",
       "      <td>Средняя пенсия</td>\n",
       "      <td>Санкт-Петербург</td>\n",
       "      <td>2018-10-15</td>\n",
       "      <td>17644</td>\n",
       "    </tr>\n",
       "    <tr>\n",
       "      <th>41489</th>\n",
       "      <td>Средняя пенсия</td>\n",
       "      <td>Санкт-Петербург</td>\n",
       "      <td>2018-11-15</td>\n",
       "      <td>16900</td>\n",
       "    </tr>\n",
       "  </tbody>\n",
       "</table>\n",
       "</div>"
      ],
      "text/plain": [
       "                 name           region        date  value\n",
       "41479  Средняя пенсия  Санкт-Петербург  2018-01-15  14694\n",
       "41480  Средняя пенсия  Санкт-Петербург  2018-02-15  17019\n",
       "41481  Средняя пенсия  Санкт-Петербург  2018-03-15  17058\n",
       "41482  Средняя пенсия  Санкт-Петербург  2018-04-15  19922\n",
       "41483  Средняя пенсия  Санкт-Петербург  2018-05-15  15276\n",
       "41484  Средняя пенсия  Санкт-Петербург  2018-06-15  18958\n",
       "41485  Средняя пенсия  Санкт-Петербург  2018-07-15  15045\n",
       "41486  Средняя пенсия  Санкт-Петербург  2018-08-15  19636\n",
       "41487  Средняя пенсия  Санкт-Петербург  2018-09-15  15106\n",
       "41488  Средняя пенсия  Санкт-Петербург  2018-10-15  17644\n",
       "41489  Средняя пенсия  Санкт-Петербург  2018-11-15  16900"
      ]
     },
     "execution_count": 15,
     "metadata": {},
     "output_type": "execute_result"
    }
   ],
   "source": [
    "spb_2018_pension = data[data['region'] == 'Санкт-Петербург'][data['name'] == 'Средняя пенсия'][data['date'].str.contains('2018')]\n",
    "spb_2018_pension"
   ]
  },
  {
   "cell_type": "code",
   "execution_count": 16,
   "metadata": {},
   "outputs": [
    {
     "data": {
      "text/plain": [
       "value    17023.454545\n",
       "dtype: float64"
      ]
     },
     "execution_count": 16,
     "metadata": {},
     "output_type": "execute_result"
    }
   ],
   "source": [
    "spb_2018_pension.mean()"
   ]
  },
  {
   "cell_type": "code",
   "execution_count": 17,
   "metadata": {},
   "outputs": [
    {
     "data": {
      "text/plain": [
       "name       Средняя пенсия\n",
       "region    Санкт-Петербург\n",
       "date           2018-01-15\n",
       "value               14694\n",
       "dtype: object"
      ]
     },
     "execution_count": 17,
     "metadata": {},
     "output_type": "execute_result"
    }
   ],
   "source": [
    "spb_2018_pension.min()"
   ]
  },
  {
   "cell_type": "code",
   "execution_count": 18,
   "metadata": {},
   "outputs": [
    {
     "data": {
      "text/plain": [
       "name       Средняя пенсия\n",
       "region    Санкт-Петербург\n",
       "date           2018-11-15\n",
       "value               19922\n",
       "dtype: object"
      ]
     },
     "execution_count": 18,
     "metadata": {},
     "output_type": "execute_result"
    }
   ],
   "source": [
    "spb_2018_pension.max()"
   ]
  },
  {
   "cell_type": "markdown",
   "metadata": {},
   "source": [
    "3) Самый тупой способ - через срез:"
   ]
  },
  {
   "cell_type": "code",
   "execution_count": 19,
   "metadata": {},
   "outputs": [
    {
     "name": "stderr",
     "output_type": "stream",
     "text": [
      "D:\\alyoshenka\\Python\\Anaconda\\lib\\site-packages\\ipykernel_launcher.py:1: UserWarning: Boolean Series key will be reindexed to match DataFrame index.\n",
      "  \"\"\"Entry point for launching an IPython kernel.\n"
     ]
    },
    {
     "data": {
      "text/html": [
       "<div>\n",
       "<style scoped>\n",
       "    .dataframe tbody tr th:only-of-type {\n",
       "        vertical-align: middle;\n",
       "    }\n",
       "\n",
       "    .dataframe tbody tr th {\n",
       "        vertical-align: top;\n",
       "    }\n",
       "\n",
       "    .dataframe thead th {\n",
       "        text-align: right;\n",
       "    }\n",
       "</style>\n",
       "<table border=\"1\" class=\"dataframe\">\n",
       "  <thead>\n",
       "    <tr style=\"text-align: right;\">\n",
       "      <th></th>\n",
       "      <th>name</th>\n",
       "      <th>region</th>\n",
       "      <th>date</th>\n",
       "      <th>value</th>\n",
       "    </tr>\n",
       "  </thead>\n",
       "  <tbody>\n",
       "    <tr>\n",
       "      <th>36763</th>\n",
       "      <td>Средняя зарплата</td>\n",
       "      <td>Санкт-Петербург</td>\n",
       "      <td>2018-01-15</td>\n",
       "      <td>31599</td>\n",
       "    </tr>\n",
       "    <tr>\n",
       "      <th>36764</th>\n",
       "      <td>Средняя зарплата</td>\n",
       "      <td>Санкт-Петербург</td>\n",
       "      <td>2018-02-15</td>\n",
       "      <td>42401</td>\n",
       "    </tr>\n",
       "    <tr>\n",
       "      <th>36765</th>\n",
       "      <td>Средняя зарплата</td>\n",
       "      <td>Санкт-Петербург</td>\n",
       "      <td>2018-03-15</td>\n",
       "      <td>41373</td>\n",
       "    </tr>\n",
       "    <tr>\n",
       "      <th>36766</th>\n",
       "      <td>Средняя зарплата</td>\n",
       "      <td>Санкт-Петербург</td>\n",
       "      <td>2018-04-15</td>\n",
       "      <td>44363</td>\n",
       "    </tr>\n",
       "    <tr>\n",
       "      <th>36767</th>\n",
       "      <td>Средняя зарплата</td>\n",
       "      <td>Санкт-Петербург</td>\n",
       "      <td>2018-05-15</td>\n",
       "      <td>46424</td>\n",
       "    </tr>\n",
       "    <tr>\n",
       "      <th>36768</th>\n",
       "      <td>Средняя зарплата</td>\n",
       "      <td>Санкт-Петербург</td>\n",
       "      <td>2018-06-15</td>\n",
       "      <td>49700</td>\n",
       "    </tr>\n",
       "    <tr>\n",
       "      <th>36769</th>\n",
       "      <td>Средняя зарплата</td>\n",
       "      <td>Санкт-Петербург</td>\n",
       "      <td>2018-07-15</td>\n",
       "      <td>45798</td>\n",
       "    </tr>\n",
       "    <tr>\n",
       "      <th>36770</th>\n",
       "      <td>Средняя зарплата</td>\n",
       "      <td>Санкт-Петербург</td>\n",
       "      <td>2018-08-15</td>\n",
       "      <td>43612</td>\n",
       "    </tr>\n",
       "    <tr>\n",
       "      <th>36771</th>\n",
       "      <td>Средняя зарплата</td>\n",
       "      <td>Санкт-Петербург</td>\n",
       "      <td>2018-09-15</td>\n",
       "      <td>41412</td>\n",
       "    </tr>\n",
       "    <tr>\n",
       "      <th>36772</th>\n",
       "      <td>Средняя зарплата</td>\n",
       "      <td>Санкт-Петербург</td>\n",
       "      <td>2018-10-15</td>\n",
       "      <td>43450</td>\n",
       "    </tr>\n",
       "    <tr>\n",
       "      <th>36773</th>\n",
       "      <td>Средняя зарплата</td>\n",
       "      <td>Санкт-Петербург</td>\n",
       "      <td>2018-11-15</td>\n",
       "      <td>44809</td>\n",
       "    </tr>\n",
       "  </tbody>\n",
       "</table>\n",
       "</div>"
      ],
      "text/plain": [
       "                   name           region        date  value\n",
       "36763  Средняя зарплата  Санкт-Петербург  2018-01-15  31599\n",
       "36764  Средняя зарплата  Санкт-Петербург  2018-02-15  42401\n",
       "36765  Средняя зарплата  Санкт-Петербург  2018-03-15  41373\n",
       "36766  Средняя зарплата  Санкт-Петербург  2018-04-15  44363\n",
       "36767  Средняя зарплата  Санкт-Петербург  2018-05-15  46424\n",
       "36768  Средняя зарплата  Санкт-Петербург  2018-06-15  49700\n",
       "36769  Средняя зарплата  Санкт-Петербург  2018-07-15  45798\n",
       "36770  Средняя зарплата  Санкт-Петербург  2018-08-15  43612\n",
       "36771  Средняя зарплата  Санкт-Петербург  2018-09-15  41412\n",
       "36772  Средняя зарплата  Санкт-Петербург  2018-10-15  43450\n",
       "36773  Средняя зарплата  Санкт-Петербург  2018-11-15  44809"
      ]
     },
     "execution_count": 19,
     "metadata": {},
     "output_type": "execute_result"
    }
   ],
   "source": [
    "data[36763:36774][data['region'] == 'Санкт-Петербург'][data['name'] == 'Средняя зарплата']"
   ]
  },
  {
   "cell_type": "markdown",
   "metadata": {},
   "source": [
    "1.2. Продемонстрируйте умение построения графиков (для произвольных значений) с помощью plot."
   ]
  },
  {
   "cell_type": "code",
   "execution_count": 20,
   "metadata": {},
   "outputs": [
    {
     "data": {
      "text/plain": [
       "<matplotlib.axes._subplots.AxesSubplot at 0xb28864a58>"
      ]
     },
     "execution_count": 20,
     "metadata": {},
     "output_type": "execute_result"
    },
    {
     "data": {
      "image/png": "[encoded data removed]",
      "text/plain": [
       "<Figure size 432x288 with 1 Axes>"
      ]
     },
     "metadata": {
      "needs_background": "light"
     },
     "output_type": "display_data"
    }
   ],
   "source": [
    "data.plot()"
   ]
  },
  {
   "cell_type": "code",
   "execution_count": 22,
   "metadata": {},
   "outputs": [
    {
     "data": {
      "text/plain": [
       "<matplotlib.axes._subplots.AxesSubplot at 0xb2881f1d0>"
      ]
     },
     "execution_count": 22,
     "metadata": {},
     "output_type": "execute_result"
    },
    {
     "data": {
      "image/png": "[encoded data removed]",
      "text/plain": [
       "<Figure size 432x288 with 1 Axes>"
      ]
     },
     "metadata": {
      "needs_background": "light"
     },
     "output_type": "display_data"
    }
   ],
   "source": [
    "spb_2018_pension.plot(color = 'green')"
   ]
  },
  {
   "cell_type": "markdown",
   "metadata": {},
   "source": [
    "**Переходим к решению второй задачи:**"
   ]
  },
  {
   "cell_type": "markdown",
   "metadata": {},
   "source": [
    "2.1. Для файла, расположенного в сети Интернет, напишите сценарий с использованием модуля bs4, который извлекает данные и сохраняет их в файле формата CSV, где первый столбец - день недели, второй столбец - погода."
   ]
  },
  {
   "cell_type": "code",
   "execution_count": 24,
   "metadata": {},
   "outputs": [],
   "source": [
    "import bs4"
   ]
  },
  {
   "cell_type": "code",
   "execution_count": 25,
   "metadata": {},
   "outputs": [],
   "source": [
    "def read_url(url):\n",
    "    \"\"\" Читает содержимое сайта \"\"\"\n",
    "    import urllib.request    \n",
    "    with urllib.request.urlopen(url) as webpage:\n",
    "        text = webpage.read().decode('utf-8')\n",
    "    return text"
   ]
  },
  {
   "cell_type": "code",
   "execution_count": 27,
   "metadata": {},
   "outputs": [
    {
     "name": "stdout",
     "output_type": "stream",
     "text": [
      "<html>\n",
      "  <body>\n",
      "    <div class=\"row row-forecast\">\n",
      "        <div class=\"forecast-label\"><b>Сегодня ночью</b></div>\n",
      "        <div class=\"forecast-text\">Небольшая вероятность ливней и гроз до 22:00. Облачно с прояснениями около 66. Ветер юго-западный около 9 миль в час. Вероятность осадков 20%. Возможны новые осадки от десятой до четверти дюйма.</div>\n",
      "    </div>\n",
      "    <div class=\"row row-forecast\">\n",
      "        <div class=\"forecast-label\"><b>Пятница</b></div>\n",
      "        <div class=\"forecast-text\">Местами солнечно. Высоко около 77, с температурами, падающими приблизительно к 75 днем. Северо-западный ветер от 7 до 12 миль в час, с порывами до 18 миль в час.</div>\n",
      "    </div>\n",
      "    <div class=\"row row-forecast\">\n",
      "        <div class=\"forecast-label\"><b>Ночь пятницы</b></div>\n",
      "        <div class=\"forecast-text\">Облачно с прояснениями около 63. Северный ветер от 7 до 10 миль в час.</div>\n",
      "    </div>\n",
      "    <div class=\"row row-forecast\">\n",
      "        <div class=\"forecast-label\"><b>Суббота</b></div>\n",
      "        <div class=\"forecast-text\">В основном солнечно, с высокой температурой около 73. Северный ветер около 10 миль в час.</div>\n",
      "    </div>\n",
      "    <div class=\"row row-forecast\">\n",
      "        <div class=\"forecast-label\"><b>Субботняя ночь</b></div>\n",
      "        <div class=\"forecast-text\">Облачно с прояснениями, около 63. Ветер северный, 5-10 миль в час.</div>\n",
      "    </div>\n",
      "    <div class=\"row row-forecast\">\n",
      "        <div class=\"forecast-label\"><b>Воскресенье</b></div>\n",
      "        <div class=\"forecast-text\">В основном солнечно, с высотой около 73.</div>\n",
      "    </div>\n",
      "    <div class=\"row row-forecast\">\n",
      "        <div class=\"forecast-label\"><b>Воскресный вечер</b></div>\n",
      "        <div class=\"forecast-text\">Облачно с прояснениями около 64.</div>\n",
      "    </div>\n",
      "    <div class=\"row row-forecast\">\n",
      "        <div class=\"forecast-label\"><b>Понедельник</b></div>\n",
      "        <div class=\"forecast-text\">Преимущественно солнечно, с высоким около 74.</div>\n",
      "    </div>\n",
      "    <div class=\"row row-forecast\">\n",
      "        <div class=\"forecast-label\"><b>Ночь понедельника</b></div>\n",
      "        <div class=\"forecast-text\">В основном ясно, с низким около 65.</div>\n",
      "    </div>\n",
      "    <div class=\"row row-forecast\">\n",
      "        <div class=\"forecast-label\"><b>Вторник</b></div>\n",
      "        <div class=\"forecast-text\">Солнечный, с высоким около 75.</div>\n",
      "    </div>\n",
      "    <div class=\"row row-forecast\">\n",
      "        <div class=\"forecast-label\"><b>Вечер вторника</b></div>\n",
      "        <div class=\"forecast-text\">В основном ясно, с низким около 65.</div>\n",
      "    </div>\n",
      "    <div class=\"row row-forecast\">\n",
      "        <div class=\"forecast-label\"><b>Среда</b></div>\n",
      "        <div class=\"forecast-text\">Солнечный, с высоким около 77.</div>\n",
      "    </div>\n",
      "    <div class=\"row row-forecast\">\n",
      "        <div class=\"forecast-label\"><b>Ночь среды</b></div>\n",
      "        <div class=\"forecast-text\">В основном ясно, с низким около 67.</div>\n",
      "    </div>\n",
      "    <div class=\"row row-forecast\">\n",
      "        <div class=\"forecast-label\"><b>Четверг</b></div>\n",
      "        <div class=\"forecast-text\">Вероятность дождя после 1 вечера. Преимущественно солнечно, с максимумом около 81. Вероятность осадков составляет 30%.</div>\n",
      "    </div>\n",
      "  </body>\n",
      "</html>\n",
      "\n"
     ]
    }
   ],
   "source": [
    "text = read_url(\"http://dfedorov.spb.ru/python3/forecast.html\")\n",
    "print(text)"
   ]
  },
  {
   "cell_type": "code",
   "execution_count": 28,
   "metadata": {},
   "outputs": [],
   "source": [
    "bs = bs4.BeautifulSoup(text, 'html.parser')"
   ]
  },
  {
   "cell_type": "code",
   "execution_count": 34,
   "metadata": {},
   "outputs": [
    {
     "data": {
      "text/plain": [
       "[<div class=\"forecast-label\"><b>Сегодня ночью</b></div>,\n",
       " <div class=\"forecast-label\"><b>Пятница</b></div>,\n",
       " <div class=\"forecast-label\"><b>Ночь пятницы</b></div>,\n",
       " <div class=\"forecast-label\"><b>Суббота</b></div>,\n",
       " <div class=\"forecast-label\"><b>Субботняя ночь</b></div>,\n",
       " <div class=\"forecast-label\"><b>Воскресенье</b></div>,\n",
       " <div class=\"forecast-label\"><b>Воскресный вечер</b></div>,\n",
       " <div class=\"forecast-label\"><b>Понедельник</b></div>,\n",
       " <div class=\"forecast-label\"><b>Ночь понедельника</b></div>,\n",
       " <div class=\"forecast-label\"><b>Вторник</b></div>,\n",
       " <div class=\"forecast-label\"><b>Вечер вторника</b></div>,\n",
       " <div class=\"forecast-label\"><b>Среда</b></div>,\n",
       " <div class=\"forecast-label\"><b>Ночь среды</b></div>,\n",
       " <div class=\"forecast-label\"><b>Четверг</b></div>]"
      ]
     },
     "execution_count": 34,
     "metadata": {},
     "output_type": "execute_result"
    }
   ],
   "source": [
    "label_list = bs.select('.forecast-label')\n",
    "label_list"
   ]
  },
  {
   "cell_type": "code",
   "execution_count": 35,
   "metadata": {},
   "outputs": [
    {
     "data": {
      "text/plain": [
       "['Сегодня ночью',\n",
       " 'Пятница',\n",
       " 'Ночь пятницы',\n",
       " 'Суббота',\n",
       " 'Субботняя ночь',\n",
       " 'Воскресенье',\n",
       " 'Воскресный вечер',\n",
       " 'Понедельник',\n",
       " 'Ночь понедельника',\n",
       " 'Вторник',\n",
       " 'Вечер вторника',\n",
       " 'Среда',\n",
       " 'Ночь среды',\n",
       " 'Четверг']"
      ]
     },
     "execution_count": 35,
     "metadata": {},
     "output_type": "execute_result"
    }
   ],
   "source": [
    "lst = []\n",
    "for i in range(0, len(label_list)):\n",
    "    lst.append(label_list[i].text)\n",
    "lst"
   ]
  },
  {
   "cell_type": "code",
   "execution_count": 37,
   "metadata": {},
   "outputs": [
    {
     "data": {
      "text/plain": [
       "[<div class=\"forecast-text\">Небольшая вероятность ливней и гроз до 22:00. Облачно с прояснениями около 66. Ветер юго-западный около 9 миль в час. Вероятность осадков 20%. Возможны новые осадки от десятой до четверти дюйма.</div>,\n",
       " <div class=\"forecast-text\">Местами солнечно. Высоко около 77, с температурами, падающими приблизительно к 75 днем. Северо-западный ветер от 7 до 12 миль в час, с порывами до 18 миль в час.</div>,\n",
       " <div class=\"forecast-text\">Облачно с прояснениями около 63. Северный ветер от 7 до 10 миль в час.</div>,\n",
       " <div class=\"forecast-text\">В основном солнечно, с высокой температурой около 73. Северный ветер около 10 миль в час.</div>,\n",
       " <div class=\"forecast-text\">Облачно с прояснениями, около 63. Ветер северный, 5-10 миль в час.</div>,\n",
       " <div class=\"forecast-text\">В основном солнечно, с высотой около 73.</div>,\n",
       " <div class=\"forecast-text\">Облачно с прояснениями около 64.</div>,\n",
       " <div class=\"forecast-text\">Преимущественно солнечно, с высоким около 74.</div>,\n",
       " <div class=\"forecast-text\">В основном ясно, с низким около 65.</div>,\n",
       " <div class=\"forecast-text\">Солнечный, с высоким около 75.</div>,\n",
       " <div class=\"forecast-text\">В основном ясно, с низким около 65.</div>,\n",
       " <div class=\"forecast-text\">Солнечный, с высоким около 77.</div>,\n",
       " <div class=\"forecast-text\">В основном ясно, с низким около 67.</div>,\n",
       " <div class=\"forecast-text\">Вероятность дождя после 1 вечера. Преимущественно солнечно, с максимумом около 81. Вероятность осадков составляет 30%.</div>]"
      ]
     },
     "execution_count": 37,
     "metadata": {},
     "output_type": "execute_result"
    }
   ],
   "source": [
    "text_list = bs.select('.forecast-text')\n",
    "text_list"
   ]
  },
  {
   "cell_type": "code",
   "execution_count": 38,
   "metadata": {},
   "outputs": [
    {
     "data": {
      "text/plain": [
       "['Небольшая вероятность ливней и гроз до 22:00. Облачно с прояснениями около 66. Ветер юго-западный около 9 миль в час. Вероятность осадков 20%. Возможны новые осадки от десятой до четверти дюйма.',\n",
       " 'Местами солнечно. Высоко около 77, с температурами, падающими приблизительно к 75 днем. Северо-западный ветер от 7 до 12 миль в час, с порывами до 18 миль в час.',\n",
       " 'Облачно с прояснениями около 63. Северный ветер от 7 до 10 миль в час.',\n",
       " 'В основном солнечно, с высокой температурой около 73. Северный ветер около 10 миль в час.',\n",
       " 'Облачно с прояснениями, около 63. Ветер северный, 5-10 миль в час.',\n",
       " 'В основном солнечно, с высотой около 73.',\n",
       " 'Облачно с прояснениями около 64.',\n",
       " 'Преимущественно солнечно, с высоким около 74.',\n",
       " 'В основном ясно, с низким около 65.',\n",
       " 'Солнечный, с высоким около 75.',\n",
       " 'В основном ясно, с низким около 65.',\n",
       " 'Солнечный, с высоким около 77.',\n",
       " 'В основном ясно, с низким около 67.',\n",
       " 'Вероятность дождя после 1 вечера. Преимущественно солнечно, с максимумом около 81. Вероятность осадков составляет 30%.']"
      ]
     },
     "execution_count": 38,
     "metadata": {},
     "output_type": "execute_result"
    }
   ],
   "source": [
    "lst2 = []\n",
    "for i in range(0, len(text_list)):\n",
    "    lst2.append(text_list[i].text)\n",
    "lst2"
   ]
  },
  {
   "cell_type": "code",
   "execution_count": 41,
   "metadata": {},
   "outputs": [
    {
     "data": {
      "text/plain": [
       "[('Сегодня ночью',\n",
       "  'Небольшая вероятность ливней и гроз до 22:00. Облачно с прояснениями около 66. Ветер юго-западный около 9 миль в час. Вероятность осадков 20%. Возможны новые осадки от десятой до четверти дюйма.'),\n",
       " ('Пятница',\n",
       "  'Местами солнечно. Высоко около 77, с температурами, падающими приблизительно к 75 днем. Северо-западный ветер от 7 до 12 миль в час, с порывами до 18 миль в час.'),\n",
       " ('Ночь пятницы',\n",
       "  'Облачно с прояснениями около 63. Северный ветер от 7 до 10 миль в час.'),\n",
       " ('Суббота',\n",
       "  'В основном солнечно, с высокой температурой около 73. Северный ветер около 10 миль в час.'),\n",
       " ('Субботняя ночь',\n",
       "  'Облачно с прояснениями, около 63. Ветер северный, 5-10 миль в час.'),\n",
       " ('Воскресенье', 'В основном солнечно, с высотой около 73.'),\n",
       " ('Воскресный вечер', 'Облачно с прояснениями около 64.'),\n",
       " ('Понедельник', 'Преимущественно солнечно, с высоким около 74.'),\n",
       " ('Ночь понедельника', 'В основном ясно, с низким около 65.'),\n",
       " ('Вторник', 'Солнечный, с высоким около 75.'),\n",
       " ('Вечер вторника', 'В основном ясно, с низким около 65.'),\n",
       " ('Среда', 'Солнечный, с высоким около 77.'),\n",
       " ('Ночь среды', 'В основном ясно, с низким около 67.'),\n",
       " ('Четверг',\n",
       "  'Вероятность дождя после 1 вечера. Преимущественно солнечно, с максимумом около 81. Вероятность осадков составляет 30%.')]"
      ]
     },
     "execution_count": 41,
     "metadata": {},
     "output_type": "execute_result"
    }
   ],
   "source": [
    "weather_forecast = list(zip(lst, lst2))\n",
    "weather_forecast"
   ]
  },
  {
   "cell_type": "code",
   "execution_count": 40,
   "metadata": {},
   "outputs": [],
   "source": [
    "with open('weather.csv', mode='w') as file:\n",
    "    file = csv.writer(file, lineterminator=\"\\n\")\n",
    "    for line in weather:\n",
    "        file.writerow(line)"
   ]
  },
  {
   "cell_type": "code",
   "execution_count": null,
   "metadata": {},
   "outputs": [],
   "source": []
  }
 ],
 "metadata": {
  "kernelspec": {
   "display_name": "Python 3",
   "language": "python",
   "name": "python3"
  },
  "language_info": {
   "codemirror_mode": {
    "name": "ipython",
    "version": 3
   },
   "file_extension": ".py",
   "mimetype": "text/x-python",
   "name": "python",
   "nbconvert_exporter": "python",
   "pygments_lexer": "ipython3",
   "version": "3.7.3"
  }
 },
 "nbformat": 4,
 "nbformat_minor": 2
}
